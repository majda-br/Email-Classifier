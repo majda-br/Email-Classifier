{
  "cells": [
    {
      "cell_type": "markdown",
      "metadata": {
        "id": "LnPbntVRnfvV"
      },
      "source": [
        "Importing the Dependencies"
      ]
    },
    {
      "cell_type": "code",
      "execution_count": 120,
      "metadata": {
        "id": "-71UtHzNVWjB"
      },
      "outputs": [
        {
          "name": "stderr",
          "output_type": "stream",
          "text": [
            "[nltk_data] Downloading package stopwords to /Users/mmm/nltk_data...\n",
            "[nltk_data]   Package stopwords is already up-to-date!\n"
          ]
        }
      ],
      "source": [
        "import pickle\n",
        "import nltk\n",
        "from nltk.corpus import stopwords\n",
        "nltk.download('stopwords')\n",
        "from nltk.tokenize import RegexpTokenizer\n",
        "from sklearn.feature_extraction.text import TfidfVectorizer\n",
        "import pandas as pd\n",
        "import numpy as np\n",
        "from nltk.stem import PorterStemmer\n",
        "from sklearn.model_selection import StratifiedShuffleSplit, StratifiedKFold, cross_val_predict, GridSearchCV\n",
        "from sklearn import svm\n",
        "from sklearn.metrics import accuracy_score, f1_score "
      ]
    },
    {
      "cell_type": "markdown",
      "metadata": {
        "id": "bmfOfG8joBBy"
      },
      "source": [
        "Data Collection and Analysis\n",
        "\n",
        "PIMA Diabetes Dataset"
      ]
    },
    {
      "cell_type": "code",
      "execution_count": 121,
      "metadata": {
        "id": "Xpw6Mj_pn_TL"
      },
      "outputs": [],
      "source": [
        "# loading the diabetes dataset to a pandas DataFrame\n",
        "df_labeled_emails = pd.read_excel('Data_Projet_NLP.xlsx')"
      ]
    },
    {
      "cell_type": "code",
      "execution_count": 122,
      "metadata": {
        "colab": {
          "base_uri": "https://localhost:8080/",
          "height": 206
        },
        "id": "-tjO09ncovoh",
        "outputId": "95c34fe0-f28a-4aa5-a7b1-5214026ad304"
      },
      "outputs": [
        {
          "data": {
            "text/html": [
              "<div>\n",
              "<style scoped>\n",
              "    .dataframe tbody tr th:only-of-type {\n",
              "        vertical-align: middle;\n",
              "    }\n",
              "\n",
              "    .dataframe tbody tr th {\n",
              "        vertical-align: top;\n",
              "    }\n",
              "\n",
              "    .dataframe thead th {\n",
              "        text-align: right;\n",
              "    }\n",
              "</style>\n",
              "<table border=\"1\" class=\"dataframe\">\n",
              "  <thead>\n",
              "    <tr style=\"text-align: right;\">\n",
              "      <th></th>\n",
              "      <th>Label</th>\n",
              "      <th>Email</th>\n",
              "    </tr>\n",
              "  </thead>\n",
              "  <tbody>\n",
              "    <tr>\n",
              "      <th>0</th>\n",
              "      <td>Marketing</td>\n",
              "      <td>Subject: Introducing a New Social Media Campai...</td>\n",
              "    </tr>\n",
              "    <tr>\n",
              "      <th>1</th>\n",
              "      <td>Marketing</td>\n",
              "      <td>Subject: Proposal for Influencer Partnership\\n...</td>\n",
              "    </tr>\n",
              "    <tr>\n",
              "      <th>2</th>\n",
              "      <td>Marketing</td>\n",
              "      <td>Subject: New Content Marketing Strategy\\n\\nDea...</td>\n",
              "    </tr>\n",
              "    <tr>\n",
              "      <th>3</th>\n",
              "      <td>Marketing</td>\n",
              "      <td>Dear Chris,\\n\\nI wanted to share with you a co...</td>\n",
              "    </tr>\n",
              "    <tr>\n",
              "      <th>4</th>\n",
              "      <td>Marketing</td>\n",
              "      <td>Subject: New Branding Strategy\\n\\nDear Chris,\\...</td>\n",
              "    </tr>\n",
              "  </tbody>\n",
              "</table>\n",
              "</div>"
            ],
            "text/plain": [
              "       Label                                              Email\n",
              "0  Marketing  Subject: Introducing a New Social Media Campai...\n",
              "1  Marketing  Subject: Proposal for Influencer Partnership\\n...\n",
              "2  Marketing  Subject: New Content Marketing Strategy\\n\\nDea...\n",
              "3  Marketing  Dear Chris,\\n\\nI wanted to share with you a co...\n",
              "4  Marketing  Subject: New Branding Strategy\\n\\nDear Chris,\\..."
            ]
          },
          "execution_count": 122,
          "metadata": {},
          "output_type": "execute_result"
        }
      ],
      "source": [
        "# printing the first 5 rows of the dataset\n",
        "df_labeled_emails.head()"
      ]
    },
    {
      "cell_type": "code",
      "execution_count": 123,
      "metadata": {
        "colab": {
          "base_uri": "https://localhost:8080/"
        },
        "id": "lynParo6pEMB",
        "outputId": "750f5200-c604-4087-85e0-2116837d8eec"
      },
      "outputs": [
        {
          "data": {
            "text/plain": [
              "(207, 2)"
            ]
          },
          "execution_count": 123,
          "metadata": {},
          "output_type": "execute_result"
        }
      ],
      "source": [
        "# number of rows and Columns in this dataset\n",
        "df_labeled_emails.shape"
      ]
    },
    {
      "cell_type": "code",
      "execution_count": 124,
      "metadata": {
        "colab": {
          "base_uri": "https://localhost:8080/"
        },
        "id": "LrpHzaGpp5dQ",
        "outputId": "41180817-17ef-4c0a-f036-469a60ff9c16"
      },
      "outputs": [
        {
          "data": {
            "text/plain": [
              "Label\n",
              "IT                57\n",
              "Marketing         53\n",
              "Sales             35\n",
              "Accountability    33\n",
              "HR                29\n",
              "Name: count, dtype: int64"
            ]
          },
          "execution_count": 124,
          "metadata": {},
          "output_type": "execute_result"
        }
      ],
      "source": [
        "df_labeled_emails['Label'].value_counts()"
      ]
    },
    {
      "cell_type": "markdown",
      "metadata": {
        "id": "cB1qRaNcqeh5"
      },
      "source": [
        "0 --> Non-Diabetic\n",
        "\n",
        "1 --> Diabetic"
      ]
    },
    {
      "cell_type": "code",
      "execution_count": 125,
      "metadata": {
        "id": "RoDW7l9mqqHZ"
      },
      "outputs": [],
      "source": [
        "# separating the data and labels\n",
        "df_emails = df_labeled_emails['Email']\n",
        "df_target = df_labeled_emails['Label']"
      ]
    },
    {
      "cell_type": "code",
      "execution_count": 126,
      "metadata": {},
      "outputs": [],
      "source": [
        "#Context words\n",
        "contex_words = ['subject','best','regards','your name','recipient','dear', 'please','name', 'thank', 'email']\n",
        "\n",
        "#Stopwords\n",
        "stopwords = nltk.corpus.stopwords.words('english')\n",
        "stopWords = set(stopwords)\n",
        "filename_stopwords = 'stopwords.sav'\n",
        "pickle.dump(stopWords, open(filename_stopwords, 'wb'))\n",
        "\n",
        "#Tokenizer\n",
        "tokenizer = RegexpTokenizer(r'[a-zA-Z]+')\n",
        "\n",
        "# instanciate the Stemmer\n",
        "ps = PorterStemmer()"
      ]
    },
    {
      "cell_type": "code",
      "execution_count": 127,
      "metadata": {},
      "outputs": [
        {
          "name": "stdout",
          "output_type": "stream",
          "text": [
            "Preprocessed email corpus:\n",
            " ['introduc new social media campaign want share new social media campaign market team work campaign design increas engag awar social media channel drive traffic websit campaign includ seri short video showcas product servic action well target advertis strategi reach key audienc segment also leverag user gener content increas authent reach campaign believ campaign potenti gener signific result compani excit see perform let know question feedback harri market team', 'propos influenc partnership want share propos influenc partnership believ would great fit brand influenc question larg engag follow target market believ endors could help us reach wider audienc build brand awar propos partnership would involv seri sponsor post stori influenc social media channel well dedic land page websit exclus offer follow believ partnership would win win compani influenc excit potenti result let know question anyth els would like us consid harri market team', 'new content market strategi want share new content market strategi team develop strategi focus creat high qualiti inform content provid valu target audienc posit compani thought leader industri content includ mix blog post whitepap case studi infograph optim seo share across social media channel also partner industri influenc amplifi reach content increas engag believ content market strategi help us attract new custom build brand loyalti differenti competitor let know question anyth els would like us consid harri market team', 'chri want share competit analysi report market team complet report analyz top competitor market identifi area differenti gain competit advantag key find report includ competitor strength weak price strategi market tactic base analysi identifi sever opportun us differenti competitor includ uniqu valu proposit product featur custom servic would love schedul meet go report detail discuss leverag insight strengthen market posit let know work cynthia market depart', 'new brand strategi chri want give updat new brand strategi design differenti us competitor better commun valu proposit target audienc new brand strategi includ refresh logo updat messag new visual ident reflect across market channel believ chang help us stand crowd market better connect custom current process implement new brand strategi would love hear feedback chang make let know question would like schedul meet discuss cynthia market depart', 'new product launch chri want let know upcom product launch believ differenti us competitor provid signific valu custom new product softwar platform provid advanc analyt report capabl help custom make better busi decis conduct extens market research user test ensur product meet need target audienc deliv valu proposit plan comprehens launch campaign includ market social media advertis content market believ product launch key differenti us market excit see result let know question would like discuss launch detail cynthia market depart', 'request budget updat hope find well approach end quarter want check see updat budget market campaign come requir addit fund want make sure track could let know chang budget need adjust spend upcom campaign would greatli appreci help market depart', 'market campaign detail prompt respons appreci willing work us attach detail budget breakdown upcom market campaign let know question need make adjust stay within budget help market depart', 'excit market updat import remind hope find well head second quarter year market team hard work creat innov campaign develop strategi increas brand awar drive sale want share excit updat whole compani well remind import inform first thrill announc launch new product line team work tirelessli creat rang product believ revolution industri new product design custom mind confid hit consum roll full scale market campaign support launch keep eye ad across social media print onlin channel secondli want remind upcom compani event annual gala come week hope excit year event promis bigger better ever great lineup speaker entertain network opportun chanc everyon compani come togeth celebr success past year make sure rsvp soon possibl lastli want highlight key market initi work next month alway focu drive growth build brand awar engag target audienc key project current work includ social media influenc campaign reach wider audienc drive engag new market strategi increas open click rate seri video ad promot product across social media channel revamp websit improv ux engag content believ initi help us achiev market goal continu grow compani alway welcom feedback idea hesit reach suggest take time read look forward work come month market team', 'project kickoff empir sale team updat introduct empir project excit work initi look forward collabor close throughout project market team commit support project provid relev impact messag promot materi help drive awar adopt final product let us know assist project progress look forward work achiev project goal', 'empir project updat sale team progress updat empir project glad hear project move forward specif mileston achiev market team remain commit support project ensur messag promot materi align project goal object keep us inform chang updat project plan may impact work appreci continu partnership look forward success complet project', 'upcom market campaign colleagu excit announc new market campaign set launch soon team work hard creat compel messag engag visual help us promot brand reach new custom believ campaign signific mileston compani eager share stay tune updat launch date get involv promot campaign market team', 'save date market campaign launch colleagu delight announc new market campaign launch date campaign result month hard work collabor team depart compani believ campaign help us expand reach drive growth compani mark calendar launch date sure stay tune inform support campaign market team', 'market campaign preview colleagu excit give sneak peek upcom market campaign team work hard creat messag reson audienc visual eye catch engag believ campaign help us promot brand reach new custom look forward share full campaign soon meantim let us know question feedback market team', 'get readi new market campaign colleagu thrill announc new market campaign launch soon campaign signific opportun compani increas brand awar gener lead drive growth creat comprehens plan promot campaign across multipl channel confid effort produc great result join us spread word campaign stay tune updat support effort market team', 'age target custom hi want touch base age rang target custom upcom campaign base market research found major target audienc fall age rang think import messag visual tailor age group ensur effect commun reson need prefer thought think need make adjust creativ approach look forward hear feedback', 'target custom age rang hi hope well want follow discuss age rang target custom upcom campaign agre focu messag visual age rang howev also think consid creat variat cater slightli differ age group within rang exampl could creat version messag visual specif gear toward age group anoth one age group think idea let know thought', 'target custom age insight hi addit research age rang target custom found interest insight think could inform creativ approach base data notic age group primari target also signific secondari audienc age rang think would benefici us creat messag visual reson age group well still maintain focu age rang think idea let know thought', 'final age rang target custom hi get close launch campaign want make sure page regard age rang target custom base discuss research agre focu messag visual age rang believ rang captur major target audienc still allow variat age prefer behavior let move forward age rang look forward see creativ idea come life', 'refin target age rang hi want follow convers age rang target custom agre primari focu age rang think consid refin research show within age rang signific differ consum behavior prefer younger end older end believ narrow focu age rang better target group think approach let know thought', 'age rang shift hey hope well review campaign data notic see engag convers age rang origin anticip given shift think adjust messag visual better reson age group think focus rang still target age group well let discuss next team meet', 'age rang updat hi want give updat age rang target campaign review data consid creativ approach decid focu primarili age rang believ age rang repres sweet spot product confid messag visual reson group cours still keep mind age group secondari target let know thought question', 'custom behavior insight hi hope well want share insight gather target custom behavior think could valuabl upcom campaign research show target custom heavi mobil user major spend least two hour per day phone addit tend price sensit initi anticip strong prefer promot discount think consid insight develop campaign messag channel think let chat next team meet', 'custom behavior insight hi thank share insight complet agre leverag find better target audienc one idea come mind creat mobil first campaign strong focu promot offer could also consid run ad social media platform target custom activ instagram facebook let brainstorm idea togeth discuss team meet', 'custom behavior insight hey realli like idea mobil first campaign focu promot think would effect way reach target audienc encourag engag brand anoth thought creat loyalti program reward custom repeat purchas could also offer exclus discount promot program member incentiv loyalti think approach let know thought discuss next meet', 'target custom profil hello team gear upcom market campaign want take moment clarifi target custom profil research shown ideal custom male femal age colleg degre annual incom higher interest healthi live well self care tend frequent onlin shopper activ social media enjoy follow lifestyl influenc hope inform help continu develop market strategi let work togeth creat campaign reson target audienc', 'target custom updat hi team want provid quick updat target custom profil recent research shown target custom increasingli interest sustain eco friendli prefer product brand align valu let keep mind continu develop campaign messag opportun connect target audienc showcas commit sustain idea highlight campaign let know', 'understand target custom hello team hope well market team import us understand target custom profil understand help us creat better market campaign reson target audienc target custom mainli peopl age interest health well like activ social media alway look new product servic improv overal well may work profession stay home parent student look product help stay healthi fit next week dive deeper profil target custom creat market campaign target effect', 'demograph inform target custom hello team promis write share inform target custom base research data analysi target custom mainli femal age interest health well educ career driven look way stay healthi despit busi lifestyl demograph inform target custom target custom femal male target custom age age target custom colleg educ target custom work profession stay home parent student hope inform help continu creat market campaign tailor target audienc', 'psychograph inform target custom hello team addit demograph inform import us understand psychograph profil target custom help us creat market campaign reson valu belief lifestyl choic base research psychograph inform target custom target custom health consciou priorit self care well environment consciou prefer product eco friendli sustain valu conveni will pay premium product save time effort activ social media like share experi other understand psychograph profil target custom creat market campaign speak interest valu ultim drive sale revenu compani', 'updat target custom hello team want provid updat target custom base recent market campaign data analysi identifi key trend need keep mind creat futur campaign target custom prefer product natur organ interest product help manag stress anxieti increasingli interest plant base diet product look product help improv sleep qualiti keep trend mind creat market campaign target effect ultim drive sale revenu compani', 'demograph inform target custom hello team promis write share inform target custom base research data analysi target custom mainli small busi owner demograph inform target custom male femal target custom age age target custom colleg educ target custom busi less employe hope inform help continu creat market campaign tailor target audienc', 'psychograph inform target custom hello team addit demograph inform import us understand psychograph profil target custom help us creat market campaign reson valu belief lifestyl choic base research psychograph inform target custom target custom valu effici alway look way optim busi oper tech savvi interest new technolog help streamlin busi process valu reliabl want solut help avoid downtim increas profit interest afford solut help save money understand psychograph profil target custom creat market campaign speak interest valu ultim drive sale revenu compani', 'updat target custom hello team want provid updat target custom base recent market campaign data analysi identifi key trend need keep mind creat futur campaign target custom increasingli interest cloud base solut help access data anywher look solut help manag busi financ effici interest solut help autom busi process increasingli interest solut help manag remot team keep trend mind creat market campaign target effect ultim drive sale revenu compani', 'concern new ad hi colleagu appreci posit feedback new ad concern effect think messag vagu clearli commun benefit product addit visual may stun directli tie product featur worri target audienc make connect ad product love hear thought might abl address concern', 'defend new ad hi colleagu understand concern new ad think might overlook key benefit messag visual messag may vagu intent meant spark curios interest product rather overwhelm audienc much inform visual think creat emot connect audienc import directli show product creat feel mood better captur audienc attent interest open hear feedback suggest stand work done ad colleagu', 'altern suggest new ad hi colleagu thank defend new ad still reserv effect order make sure creat possibl ad like suggest altern approach one option could creat specif messag directli highlight benefit product could also explor differ visual option clearli tie product featur open collabor find solut feel good', 'let collabor new approach hi colleagu appreci altern suggest new ad think merit love collabor creat new approach address concern still captur attent target audienc mayb could brainstorm new messag option visual concept tie directli product featur open explor differ idea find solut work us', 'introduc new ad hi team excit announc new ad product work work hard creat messag visual reson target audienc drive interest sale share detail ad consist get sneak peek work', 'overview messag new ad hi team promis want share detail messag new ad focus highlight uniqu benefit product specif save custom time money also improv overal qualiti life messag direct point clear call action encourag viewer tri product confid messag reson target audienc drive interest sale stay tune updat', 'launch date plan new ad hi team excit announc new ad launch next week final detail readi start promot target audienc launch plan look like promot ad social media target ad organ post platform also run ad tv stream servic target specif show timeslot align target audienc view habit track engag sale data close make sure ad perform expect make posit impact busi confid new ad game changer product excit see result hard work thank support collabor project', 'remind request sale feedback ad campaign hi sale team friendli remind request feedback impact latest ad campaign sale activ would appreci could share insight number lead convers campaign period feedback import us help us evalu effect campaign determin area improv futur campaign appreci cooper look forward hear feedback', 'feedback ad campaign hi sale team want take moment provid feedback impact latest ad campaign sale activ insight extrem valuabl help us understand campaign perform impact overal busi result pleas hear campaign posit impact sale activ look forward continu work togeth creat impact market campaign drive busi growth collabor support throughout campaign', 'follow feedback ad campaign hi sale team hope find well want follow request feedback impact latest ad campaign sale activ greatli appreci feedback receiv far want give anyon chanc respond yet anoth opportun let us know notic chang lead gener convers campaign period feedback crucial effort evalu effect campaign make necessari improv futur campaign continu support collabor', 'review feedback ad campaign hi sale team hope well want let know review feedback provid impact latest ad campaign sale activ appreci insight pleas hear campaign posit impact sale use feedback inform approach futur campaign continu work collabor team drive growth busi let us know feedback suggest futur campaign support collabor', 'ad campaign complet request sale feedback hi sale team happi announc latest ad campaign come end hope campaign success creat awar product drive sale next step would like request feedback campaign impact sale activ would love know saw increas number lead convers campaign period share feedback us evalu impact campaign overal busi result support throughout campaign look forward hear feedback', 'overview visual new ad hi team want share detail visual new ad go bold eye catch look bright color dynam camera movement captur viewer attent visual showcas product action highlight uniqu featur benefit way compel easi understand also incorpor humor person ad make memor shareabl realli excit visual turn think key factor drive interest sale product', 'request specif sale data ad campaign hi sale team hope find well continu evalu impact latest ad campaign request specif sale data help us understand campaign influenc sale activ could share data number lead gener convers made campaign period inform critic effort assess effect campaign identifi area improv assist collabor', 'agreement new approach hi colleagu want let know think come great new approach ad combin specif messag idea new visual concept think creat someth effect captur attent target audienc thank collabor willing find solut work us excit see new ad perform upcom campaign', 'love new ad hi colleagu want drop quick note say absolut love new ad creat messag clear visual stun think realli reson target audienc great work hard work', 'understand target custom hello team market team crucial us understand target custom profil understand help us creat market campaign reson target audienc target custom mainli small busi owner look afford reliabl solut manag busi oper like tech savvi look new technolog help optim busi alway look way increas profit next week dive deeper profil target custom creat market campaign target effect', 'custom behavior insight hi love loyalti program idea think could great way encourag repeat purchas build loyal custom base term messag think focu highlight valu product servic emphas benefit becom loyalti program member could also use custom testimoni showcas product help improv live look forward discuss next team meet', 'request feedback empir sale team reach request feedback empir project appreci commit continu improv valu opportun provid input question believ project met need requir sale team done excel job keep us inform involv throughout project pleas progress result achiev regard improv would suggest explor addit promot opportun drive awar adopt final product would also suggest continu collabor close market team ensur messag materi align project goal object partnership opportun provid feedback look forward continu work togeth futur', 'remind data privaci requir maria part ongo effort maintain complianc data privaci regul guidelin would like remind team import adher compani polici procedur relat data privaci notic sever instanc recent week polici procedur follow could potenti put compani risk data breach regulatori fine urg review polici procedur team ensur member familiar addit question concern polici procedur hesit reach team provid guidanc support need attent matter john account team', 'maria write request team particip train session anti briberi conduct next month train cover practic key consider prevent briberi design help compani maintain cultur account integr given natur team work potenti exposur briberi risk believ import member team attend train let know schedul conflict concern awar cooper support john account team', 'maria want follow regard intern control review conduct team last month know review identifi sever area compani intern control oper effect could lead potenti risk issu road would like discuss progress team made address intern control gap provid support guidanc may need specif would like schedul meet review action plan discuss challeng roadblock may face let know avail next week coordin time work us attent matter john account team', 'maria want follow regard intern audit find share team last month know audit identifi sever area compani intern control oper effect could lead potenti risk issu road would like discuss progress team made address find provid support guidanc may need specif would like schedul meet review action plan discuss challeng roadblock may face let know avail next week coordin time work us attent matter john account team', 'team want updat progress compani fraud investig know investig report fraudul activ within compani happi report identifi termin employ individu respons would like acknowledg investig may stress disrupt appreci patienc cooper throughout process understand experi may rais question concern integr compani want assur take fraud serious continu maintain cultur transpar account encourag continu report suspici activ team follow protocol', 'team pleas announc compani provid train fraud prevent detect train cover variou topic identifi fraud risk report suspici activ maintain cultur integr attend mandatori employe encourag come prepar question exampl suspici activ wit heard train led account team take place date time locat rsvp confirm attend let us know requir special accommod believ train benefici compani also individu help recogn avoid fraudul activ person profession life cooper support account team', 'team part ongo effort prevent detect fraud compani would like remind everyon compani fraud polici polici outlin type activ consid fraudul well step taken fraud suspect urg review polici make sure understand role prevent detect fraud also encourag report suspici activ team immedi take appropri action rememb fraud harm compani also custom sharehold employe stay vigil work togeth maintain trust integr compani oper attent import matter account team', 'team want bring attent compani recent receiv report fraudul activ take place compani activ includ employe manipul financi record submit fals expens claim steal compani asset take alleg serious launch thorough investig identifi hold account individu involv activ howev need help ensur integr compani financi oper system ask remain vigil report suspici activ wit suspect may fraudul also encourag review compani polici procedur regard fraud prevent detect ensur familiar step taken event suspect fraud hesit reach team question concern appreci cooper keep compani account transpar account team', 'budget updat hello reach review current budget chang sinc last updat howev keep inform anyth chang regard upcom market campaign send detail budget breakdown ensur alloc necessari fund import stay within budget also understand import campaign success busi let know question concern account depart', 'market campaign approv hello send detail budget breakdown market campaign review everyth look good approv move forward campaign let know updat budget need addit support depart account depart', 'complianc audit result inquiri regard complianc audit result write inform complet audit result satisfactori identifi area improv complianc practic work toward implement necessari chang appreci support look forward work togeth maintain commit complianc ethic practic', 'respons request statu updat pend investig investig statu updat request updat pend investig complet investig identifi area improv intern control process process implement necessari chang taken step prevent similar incid occur futur support look forward work togeth maintain commit transpar account', 'risk assess report request risk assess report complet report identifi sever area improv risk manag practic take step implement necessari chang continu monitor assess risk manag practic ensur effect manag risk support look forward work togeth maintain commit risk manag mitig', 'sustain report request sustain report complet report proud report made signific progress toward sustain goal implement sever initi reduc environment impact promot social respons continu monitor report sustain progress ensur make meaning contribut commun environ support look forward work togeth maintain commit sustain', 'bring decreas monthli sale attent understand concern issu investig root caus declin sale work identifi potenti solut problem ensur take necessari step address issu dedic compani ongo effort improv sale perform', 'sale team inform us decreas custom satisfact understand import provid excel custom servic work identifi caus declin take appropri step improv custom servic ensur custom satisfi product servic continu effort improv custom experi maintain high standard', 'decreas monthli profit margin sale team notifi us decreas profit margin understand import maintain healthi profit margin investig root caus declin work identifi potenti solut problem ensur take necessari step address issu ongo effort improv compani financi perform', 'sale team bring decreas product attent understand concern issu investig root caus declin work identifi potenti solut problem ensur take necessari step improv product dedic compani ongo effort improv oper effici', 'monthli balanc sheet report submiss hi manag hope find well want let know complet monthli balanc sheet report submit review let know question concern report support', 'balanc sheet review request urgent manag hope find well review balanc sheet report quarter identifi sever area requir attent would appreci could review report soon possibl let know question concern essenti address issu promptli ensur continu financi health compani cooper', 'balanc sheet follow request meet manag hope find well want follow balanc sheet report submit last week receiv feedback yet concern may issu requir attent would like schedul meet discuss report detail address issu may arisen let know avail arrang time meet cooper', 'balanc sheet project request input manag hope find well part effort plan futur financi health compani current work balanc sheet project next quarter would appreci could review project provid input feedback may insight expertis invalu help us plan futur support', 'balanc sheet comparison request meet manag hope find well conduct comparison current balanc sheet previou quarter balanc sheet identifi area requir investig would like schedul meet discuss comparison detail address issu may arisen let know avail arrang time meet cooper', 'balanc sheet analysi request input hi manag hope find well part ongo effort ensur financi health compani conduct analysi balanc sheet past year would appreci could review analysi provid input feedback may insight expertis essenti effort improv financi perform support', 'balanc sheet audit request hi manag hope find well part regular financi report request audit balanc sheet report past quarter would appreci could arrang audit conduct soon possibl let know issu need address essenti maintain accur financi record ensur continu success compani support', 'monthli incom statement report submiss hi manag hope find well want let know complet monthli incom statement report submit review let know question concern report support', 'profit analysi request input hi manag hope find well part ongo effort ensur financi health compani conduct analysi profit incom statement past year would appreci could review analysi provid input feedback may insight expertis essenti effort improv financi perform support', 'incom statement follow request meet manag hope find well want follow incom statement report submit last week receiv feedback yet concern may issu requir attent would like schedul meet discuss report detail address issu may arisen let know avail arrang time meet cooper', 'budget varianc analysi request input manag hope find well part effort monitor financi perform compani conduct analysi budget varianc past quarter would appreci could review analysi provid input feedback may insight expertis invalu help us identifi area improv ensur stay track achiev financi goal support', 'profit margin improv plan request review hi manag hope find well know experienc challeng profit margin recent work plan address issu would appreci could review plan provid feedback suggest may insight expertis essenti effort improv financi perform ensur continu success compani support', 'incom statement present request approv manag hope find well part upcom board meet prepar present incom statement past quarter would appreci could review present provid approv soon possibl let know question concern present cooper', 'incom statement review request urgent manag hope find well review incom statement quarter identifi sever area requir attent would appreci could review report soon possibl let know question concern essenti address issu promptli ensur continu financi health compani cooper', 'excit market updat import remind market team updat market initi appreci focu drive growth build brand awar understand effort requir care track measur ensur success account depart want make sure necessari track mechan place measur impact campaign let us know specif requir track report work ensur accur data measur success initi look forward work achiev market goal account depart', 'excit market updat import remind market team updat upcom market initi thrill see focu build brand awar drive growth variou digit channel depart happi support effort way understand launch new product line may requir chang websit backend system would appreci could provid us inform technic requir launch ensur everyth run smoothli addit keep mind increas traffic websit may requir addit server capac let us know someth need plan look forward continu collabor support market effort depart', 'system mainten notif employe would like inform depart perform mainten intern system friday march rd pm saturday march th time access system may intermitt unavail apolog inconveni may caus appreci understand work improv system question feel free reach us cooper', 'secur alert employe recent becom awar secur vulner system could potenti compromis secur data taken immedi action address issu implement addit secur measur prevent incid howev strongli advis chang password immedi enabl two factor authent account contact us need assist process take secur data serious appreci cooper help us keep system secur', 'new softwar rollout employe pleas announc roll new softwar enhanc product streamlin oper new softwar avail employe start monday march th provid train session ensur everyon familiar new system make featur let us know question concern new softwar excit benefit bring organ look forward feedback', 'system outag updat employe apolog system outag occur earlier today team work dilig identifi resolv issu happi report system back run understand inconveni caus appreci patienc understand time experienc issu access system contact us happi assist', 'data breach notif employe regret inform experienc data breach may compromis data work close extern secur expert investig incid take appropri action prevent breach also notifi relev author follow necessari legal procedur strongli advis monitor person inform report suspici activ us immedi take matter serious keep inform continu investig incid', 'password reset request hi inform password reset due secur concern creat new password follow instruct provid receiv question let us know', 'schedul downtim notif hi would like inform system unavail sunday march th due schedul mainten apolog inconveni may caus', 'hardwar replac hi laptop hard drive fail replac new one need keep laptop hour complet replac notifi soon laptop readi', 'softwar instal request employe request instal softwar work comput review request happi proceed instal begin would like remind softwar instal work comput must approv depart ensur compat secur addit recommend review compani softwar polici outlin accept use softwar work comput schedul time instal softwar provid instruct access question concern let us know', 'network access request employe request access network databas review request happi provid access proceed would like remind access network databas restrict must author depart addit recommend review compani network secur polici outlin accept use network databas provid instruct access network databas well necessari login credenti question concern let us know', 'hardwar upgrad request employe request upgrad work comput review request happi proceed upgrad begin would like remind hardwar upgrad must approv depart ensur compat secur addit recommend review compani hardwar polici outlin accept use hardwar work comput schedul time perform upgrad provid instruct transfer file set new comput question concern let us know', 'account request employe request creat new account review request happi creat account proceed would like remind account must approv depart ensur compat secur addit recommend review compani polici outlin accept use work comput provid instruct access new account well necessari login credenti question concern let us know', 'custom report issu checkout process sale team want bring attent recent report receiv custom troubl complet purchas websit custom report unabl complet checkout process receiv error messag team investig issu determin temporari glitch system caus error messag sinc resolv issu checkout process function properli want bring attent awar potenti custom concern address proactiv let us know question concern', 'mobil checkout process need improv sale team know increas number custom use mobil devic shop websit howev receiv report mobil checkout process user friendli could team review mobil checkout process identifi sever area make improv enhanc user experi current work improv hope place soon meantim encourag proactiv commun custom may experienc issu mobil checkout process offer altern solut necessari let us know question concern', 'custom report issu payment gateway sale team want alert recent report receiv custom troubl complet payment websit custom report unabl complet payment receiv error messag team investig issu determin issu payment gateway caus error messag sinc resolv issu payment gateway function properli want bring attent awar potenti custom concern address proactiv let us know question concern', 'slow page load time affect custom experi sale team team monitor perform websit identifi issu slow page load time particularli peak traffic hour understand frustrat custom neg impact experi site current work improv perform websit reduc page load time howev meantim encourag proactiv commun custom may experienc slow page load time offer altern solut necessari let us know question concern', 'custom report miss product inform sale team want bring attent recent report receiv custom unabl find certain product inform websit specif custom report unabl locat detail specif product interest purchas team review product inform websit determin certain inform may easili access custom current work make inform readili avail user friendli meantim encourag proactiv commun custom may look specif product inform provid inform need help enhanc custom experi prevent potenti frustrat let us know question concern', 'custom report login issu sale team want alert recent report receiv custom troubl log account websit custom report unabl access account receiv error messag team investig issu determin temporari glitch system caus error messag sinc resolv issu custom abl log without problem want bring attent awar potenti custom concern address proactiv let us know question concern', 'feedback websit navig sale team team collect feedback custom regard experi navig websit receiv sever report custom find difficult navig certain section site particularli search specif product current review websit navig explor way make intuit user friendli meantim encourag proactiv commun custom may experienc difficulti navig site offer assist necessari let us know question concern', 'feedback websit navig collect feedback custom regard experi navig websit sever custom report difficulti find specif product suggest websit navig could improv team current review websit navig explor way make intuit user friendli meantim encourag everyon proactiv commun custom may experienc difficulti navig site offer assist necessari suggest feedback improv websit navig feel free reach team attent matter', 'remind websit secur continu grow onlin presenc import keep mind secur websit custom inform rememb follow practic websit secur includ regularli updat password use secur network verifi ident anyon ask sensit inform notic suspici activ websit concern websit secur inform team immedi cooper keep websit custom inform secur', 'custom report websit error team recent receiv report sever custom experienc error tri make purchas websit understand websit error frustrat custom apolog inconveni may caus team activ work identifi resolv error quickli possibl meantim encourag everyon proactiv commun custom may experienc issu websit offer assist necessari hear report custom experienc websit error inform team immedi address soon possibl attent matter', 'bewar phish email want remind everyon vigil phish email fraudul email appear come reput sourc design steal person sensit inform cautiou open email unknown sender especi ask login credenti sensit inform suspect may phish attempt click link download attach forward team investig rememb alway verifi sender ident use secur network access sensit inform onlin attent matter', 'warn tech support scam receiv report tech support scam target compani custom scam typic involv fraudster pose tech support repres trick individu give access comput person inform awar unsolicit call email claim tech support never give person inform grant remot access comput unless certain legitim request receiv suspici tech support call email inform team immedi cooper protect compani custom', 'alert fake job offer becom awar fake job offer circul onlin appear come compani offer often request sensit inform job seeker may lead ident theft fraudul activ wari job offer seem good true request person sensit inform upfront alway verifi legitimaci job offer compani provid inform accept job offer come across suspici job offer concern job relat fraud inform team immedi attent matter', 'remind social engin scam social engin scam becom increasingli sophist take mani form includ phone call email even person interact scam reli psycholog manipul trick individu give away sensit inform grant unauthor access system vigil social engin scam alway verifi ident anyon request sensit inform access compani system never give password sensit inform unknown individu click link download attach suspici sourc suspect target social engin scam concern potenti scam inform team immedi cooper keep compani system secur', 'alert vendor imperson scam want warn everyon vendor imperson scam involv fraudster pose legitim vendor supplier attempt trick individu make payment provid sensit inform cautiou deal unfamiliar vendor supplier alway verifi ident legitimaci make payment provid inform suspect target vendor imperson scam inform team immedi attent matter', 'warn busi compromis receiv report busi compromis bec scam target compani custom scam involv fraudster use compromis account send fraudul email request wire transfer payment vigil bec scam alway verifi authent request payment sensit inform never click link download attach unknown sourc respond request sensit inform unless certain request legitim suspect target bec scam inform team immedi cooper protect compani custom', 'alert malwar attack becom awar increas malwar attack target compani system attack may involv malici softwar caus system failur steal sensit inform take control system cautiou download softwar open attach alway use updat antiviru malwar protect softwar download softwar click link untrust sourc unfamiliar websit suspect comput system compromis malwar inform team immedi attent matter', 'notic unauthor websit access employe team detect compani comput access websit prohibit compani internet polici websit contain inappropri content accept use work hour remind use compani equip non work relat activ strictli prohibit member team expect adher polici help maintain secur profession work environ refrain visit websit futur hope understand import complianc polici regul question feel free contact team team', 'unauthor websit access employe notic comput recent access websit violat compani internet usag polici take internet secur serious essenti employe adher polici kindli remind use compani equip person use permit refrain visit unauthor websit avoid potenti secur risk question concern hesit contact team sincer team', 'warn unauthor websit access employe team detect access websit prohibit compani internet polici would like remind access unauthor websit violat compani polici could result disciplinari action avoid breach compani internet polici strongli advis refrain access non work relat websit work hour question feel free reach team cooper team', 'notic unauthor websit access employe team detect recent access websit permit compani internet usag polici want emphas visit unauthor websit pose signific secur risk compani network valu member team expect adher compani polici guidelin regard internet usag refrain access unauthor websit compani equip question need clarif hesit contact team attent matter team', 'unauthor websit access employe recent detect compani comput access websit permit compani internet polici import employe follow polici regul set compani ensur secur profession work environ awar access unauthor websit pose signific secur risk network ask refrain visit type websit futur question concern feel free contact team sincer team', 'notic unauthor websit access employe would like inform compani comput access websit allow compani internet polici would like remind use compani equip person use permit ask refrain access unauthor websit futur maintain secur integr compani network question concern hesit contact team cooper team', 'remind unauthor websit access employe recent detect compani comput access websit author compani internet polici import employe follow polici guidelin regard internet usag maintain secur product work environ remind use compani equip non work relat activ strictli prohibit refrain access unauthor websit futur question concern contact team team', 'password chang remind colleagu team recent discov suspici activ compani network ensur secur system recommend employe chang password immedi urg creat strong password uniqu account easili guess other make sure avoid use common word phrase person inform creat new password need assist chang password hesit contact team appreci cooper maintain secur compani network team', 'password updat remind colleagu come attent mani employe updat password quit time would like remind regular password updat essenti secur measur help safeguard compani network potenti threat take minut updat password ensur strong easili guessabl need assist chang password reach team cooper maintain secur work environ team', 'time chang password colleagu part ongo effort maintain secur compani network would like remind chang password regularli awar strong password essenti element keep network secur urg chang password soon possibl ensur uniqu easili guessabl need assist creat strong password hesit contact team cooper maintain secur product work environ team', 'urgent password chang requir colleagu would like inform time chang password ensur secur compani network routin secur measur ask take immedi action chang password creat new password uniqu easili guessabl also ensur new password follow compani password polici guidelin question concern chang password contact team cooper maintain secur product work environ team', 'warn fake scam want warn everyon fake scam involv fraudster imperson employe execut compani attempt trick individu make payment provid sensit inform cautiou receiv unfamiliar suspici email alway verifi ident legitimaci sender make payment provid inform receiv suspici email suspect target fake scam inform team immedi attent matter', 'alert phish email receiv report phish email target compani employe email may includ link fake websit request sensit inform may appear sent legitim sourc vigil phish email alway verifi authent request payment sensit inform click link download attach unknown sourc respond request sensit inform unless certain request legitim receiv suspici email suspect target phish scam inform team immedi cooper protect compani employe', 'import secur updat employe write inform import secur updat team recent receiv report phish circul within compani may receiv employe includ may appear legitim messag trust sourc actual scam design steal person inform advis employe extra vigil report suspici email activ immedi receiv line urgent verifi account inform repli let us know team investig matter provid guidanc protect person inform cooper stay safe team', 'urgent possibl phish attempt employe reason believ recent receiv line account suspend may phish attempt may appear trust sourc design trick share person inform take secur threat serious want ensur employe awar potenti danger receiv suspici email let us know soon possibl team investig matter take appropri action prevent damag meantim extra cautiou provid person inform click link suspici email cooper team', 'warn phish scam detect employe detect phish scam target compani want ensur employe awar potenti danger scam involv line import messag hr appear hr depart actual fraudul design steal person inform receiv suspici email let us know immedi team investig matter take appropri action prevent damag encourag employe cautiou open email especi request person inform contain suspici link report suspici activ immedi ensur take appropri action protect compani employe cooper team', 'bewar recent phish attempt employe write inform recent phish attempt report within compani may line account compromis appear trust sourc actual scam design steal person inform receiv suspici email let us know soon possibl team investig matter take appropri action prevent scam encourag employe extra cautiou open email click link report suspici activ immedi cooper team', 'alert potenti scam employe write inform potenti scam may target compani may line account lock appear depart actual fraudul design steal person inform receiv suspici email let us know immedi team investig matter take appropri action prevent damag encourag employe cautiou open email especi request person inform contain suspici link report suspici activ immedi ensur take appropri action protect compani employe cooper team', 'import notic regard recent phish attack employe write inform recent phish attack report within compani may line urgent verifi account inform appear legitim sourc actual scam design steal person inform receiv suspici email let us know soon possibl team investig matter take appropri action prevent scam encourag employe extra cautiou open email click link report suspici activ immedi cooper team', 'scam alert import inform employe write inform potenti scam current target compani scam involv line invoic overdu appear legitim vendor actual phish attempt receiv suspici email let us know soon possibl team investig matter take appropri action protect person inform prevent scam encourag employe extra vigil open email click link report suspici activ immedi cooper stay safe team', 'remind password secur want remind everyon import password secur prevent unauthor access system sensit inform rememb use strong password includ mix uppercas lowercas letter number special charact reus password across differ account system avoid use person inform common word easili guess suspect password compromis concern password secur inform team immedi cooper keep compani system secur', 'password updat requir colleagu would like remind time updat password ensur secur compani network awar new password must contain least eight charact includ combin uppercas lowercas letter number symbol addit make sure new password uniqu easili guessabl avoid use person inform easili guessabl word phrase need assist creat strong password contact team cooper maintain secur work environ team', 'remind password chang requir colleagu would like remind time chang password maintain secur compani network make sure new password least charact long includ combin uppercas lowercas letter number special charact strongli recommend avoid use common word phrase person inform creat new password question concern hesit contact team cooper maintain secur work environ team', 'password updat instruct colleagu part ongo effort maintain secur compani network requir employe updat password regularli note new password must least charact long includ combin uppercas lowercas letter number symbol also suggest avoid use easili guessabl inform person inform common word consecut charact creat new password need assist creat strong password hesit contact team cooper maintain secur work environ team', 'password chang addit guidelin colleagu time chang password maintain secur compani network creat new password ensur least eight charact long includ combin uppercas lowercas letter number special charact furthermor avoid use easili guessabl inform date birth common word new password recommend creat uniqu memor passphras instead singl word question concern chang password hesit contact team cooper maintain secur work environ team', 'recent websit outag want inform everyon websit experienc outag earlier today affect custom tri make purchas team quickli identifi resolv issu websit fulli function understand websit outag frustrat custom apolog inconveni may caus close monitor websit come day ensur everyth run smoothli hear report custom experienc issu websit inform team immedi address soon possibl understand', 'printer setup request employe request set printer work area review request happi proceed setup begin would like remind printer must approv depart ensur compat secur addit recommend review compani printer polici outlin accept use printer work comput schedul time set printer provid instruct access question concern let us know', 'excit market updat import remind market team updat upcom market initi appreci focu build brand awar engag target audienc believ effort help us continu grow compani want remind compani gala fast approach hope rsvp look forward see celebr success past year addit keep us inform new hire chang team ensur record date wish market initi hr depart', 'remind employe benefit enrol deadlin approach friendli remind deadlin enrol compani employe benefit program approach sure submit enrol form end week ensur coverag start next month', 'perform review meet request employe would like schedul perform review meet discuss progress goal year meet opportun us discuss strength area improv well career develop opportun may interest let know avail next two week find time work us look forward convers', 'offic closur due inclement weather due inclement weather condit offic close today stay safe warm see tomorrow', 'short remind mandatori divers train friendli remind compani mandatori divers train schedul next week make sure attend design time ensur complianc compani polici', 'retir plan chang write inform chang compani retir plan effect next quarter transit new plan administr offer addit invest option review attach memo inform chang may impact retir save question hesit reach hr team', 'updat sick leav polici want let know updat sick leav polici better support employe time ill review attach polici document inform', 'employe promot announc thrill announc employe promot new posit within compani employe integr part team demonstr except leadership dedic mission join congratul employe well deserv promot look forward continu success new role', 'offic closur holiday want let know offic close next week observ holiday enjoy time love one see return', 'welcom team hello employe thrill onboard member team hope find work meaning fulfil let us know question concern get settl', 'remind benefit enrol deadlin approach hi employe friendli remind deadlin enrol make chang benefit come soon take time review option make necessari select deadlin question hesit reach us sincer', 'employe engag survey result employe particip recent employe engag survey pleas share result key takeaway survey includ survey result key takeaway question feedback let us know', 'remind perform review schedul hi employe quick remind upcom perform review schedul date time make sure prepar discuss achiev goal upcom year need reschedul reason let us know soon possibl sincer', 'train opportun train program hello employe excit offer new train opportun employe train program program cover train program descript design help develop new skill improv perform interest particip let us know deadlin date', 'congratul promot hi employe thrill inform promot posit new posit titl hard work dedic organ gone unnot believ excel new role look forward see grow develop new posit', 'new employe referr program employe excit introduc new employe referr program refer friend acquaint hire remain organ least time frame receiv referr bonu amount see attach document inform program', 'chang time polici hi employe want let know made chang time polici effect immedi includ brief summari chang review updat polici full found intranet site sincer', 'candid pleas offer sale posit compani impress qualif experi enthusiasm interview process believ would valuabl addit team posit come start salari salari amount well comprehens benefit packag includ health insur k match paid time addit receiv perk benefit interest accept offer let us know deadlin date send formal offer letter outlin term condit employ interest compani look forward work', 'welcom team new employe thrill welcom compani member sale team play key role help us achiev goal serv custom get start right foot creat onboard program help get speed quickli smoothli program includ detail onboard program orient train etc let us know question concern happi assist welcom team look forward work', 'invit interview sale posit candid interest sale posit compani impress qualif experi would like invit interview team schedul interview next week would like know avail let us know day time work accommod schedul look forward hear back get know better', 'sale team help sourc qualifi candid sale posit compani review resum cover letter submit select group individu move forward hire process would like schedul interview next week would appreci assist coordin schedul candid let us know avail candid work schedul time work parti assist process look forward meet candid', 'job offer sale posit sale team would like extend job offer candid sale posit compani believ candid would valuabl addit team would help us achiev goal posit come start salari salari amount well comprehens benefit packag includ health insur k match paid time addit candid receiv perk benefit could let us know candid interest accept offer send formal offer letter outlin term condit employ help hire process look forward hear back hr team member', 'onboard program new sale team member sale team excit welcom new employe sale team help get start right foot develop onboard program provid tool knowledg need succeed new role onboard program includ detail onboard program orient train etc would appreci assist ensur new employe access necessari resourc materi help welcom new employe team let us know question concern', 'feedback recent project hello employe want take moment provid feedback recent work project impress posit feedback feel handl specif task particularli well howev would like discuss construct feedback brainstorm way improv futur project let us know avail meet', 'payrol announc upcom payslip hope find well want let know upcom payrol cycl start soon receiv payslip within next day question concern pay hesit reach hr team alway help issu relat employ compani hard work dedic', 'payslip distribut remind hello everyon quick remind payslip month avail review compani hr portal log portal review payslip check inform correct notic discrep question contact hr team immedi alway help issu relat pay cooper', 'payslip discrep follow hi hope find well notic discrep one payslip distribut month want reach address notic discrep payslip contact hr team immedi work resolv issu quickli possibl apolog inconveni may caus appreci cooper', 'explan payslip employe hope find well receiv inquiri regard latest payslip want provid explan pay provid explan specif item payslip employe may question question concern hesit reach hr team alway help issu relat pay hard work dedic', 'futur sale strategi team write inform sale revenu month februari drop compar previou month disappoint declin commit improv sale perform come month plan focu improv custom servic experi product innov attract new client also review price strategi ensur remain competit support look forward work togeth improv sale perform', 'introduc new product team hope find well want take moment introduc newest product think could great interest team new product design solv insert problem alreadi receiv great feedback custom would love schedul time discuss product could benefit team answer question may let know interest learn', 'follow meet follow meet team take time meet earlier today great learn team prioriti might abl work togeth discuss attach materi think could help address team need let know question anyth els provid look forward continu convers soon', 'request referr referr request team hope find well reach today hope connect insert job titl industri profession network know anyon might good fit would grate introduct includ brief overview refer advanc help', 'offer special promot special promot team team want reach today let know special promot current run think could interest team limit time offer insert promot detail could save team signific amount money interest take advantag offer let know discuss detail', 'request feedback team hope find well alway look way improv product servic would grate feedback may minut spare would love hear thought insert specif question topic input would incred valuabl work better serv custom advanc time', 'project kickoff empir team excit announc begin work empir come day member sale team want take moment introduc share high level inform project empir excit new initi believ help us achiev goal object team work close team throughout project ensur deliv final product meet need exce expect come day reach schedul kickoff call team discuss project detail meantim hesit reach directli question concern', 'empir project updat team want provid quick updat statu empir project know team work dilig past week deliv final product meet need exce expect pleas report make great progress project specif accomplish insert specif accomplish mileston achiev commit keep team inform involv throughout project continu provid regular updat move forward alway hesit reach question concern', 'request feedback empir team near complet empir project want reach request feedback specif would love hear thought follow well meet need requir anyth could improv suggest futur project input incred valuabl us commit use feedback improv process better serv custom advanc time feedback look forward continu work togeth futur', 'yearli sale result team pleas share exceed yearli sale target total sale revenu year stand million remark achiev owe success team hard work dedic willing go extra mile custom abl secur sever new client success retain exist one team consist demonstr except product knowledg help us meet need client effect continu support guidanc look forward anoth success year', 'yearli sale report team happi present yearli sale report year sale perform excel total revenu million howev let us look breakdown sale revenu product million product b million product c million product million product sell product contribut total revenu product b also perform well contribut total revenu identifi area improv sale perform increas revenu product continu support look forward anoth success year', 'yearli sale review team would like provid sale perform analysi year achiev total revenu million exceed target sale team done great job secur new client abl retain exist one howev notic area improv sale team could benefit addit product train especi new product also identifi opportun improv lead gener process appreci support guidanc work address area improv sale perform', 'yearli sale review team would like provid sale perform analysi year achiev total revenu million exceed target sale team done great job secur new client abl retain exist one howev notic area improv sale team could benefit addit product train especi new product also identifi opportun improv lead gener process appreci support guidanc work address area improv sale perform', 'futur sale strategi team pleas share sale perform year sale team work hard exceed target secur new client howev need start think sale strategi futur plan focu product innov improv custom servic experi also work enhanc digit market campaign reach broader audienc appreci support guidanc look forward anoth success year', 'monthli sale review team write provid sale perform analysi month februari unfortun experienc drop sale compar previou month total revenu februari stand million drop januari identifi sale team struggl convert lead sale month believ addit train support help sale team improv perform appreci continu support look forward work togeth address issu', 'analysi sale declin monthli sale report team write share monthli sale report month februari unfortun sale revenu declin compar previou month total revenu februari stand million analyz sale data identifi declin sale due decreas custom demand one main product need review product posit price strategi address issu appreci support guidanc work toward improv sale perform', 'monthli sale perform team write provid monthli sale perform month februari unfortun sale team experienc drop sale compar previou month total revenu februari stand million drop januari review sale team perform identifi need improv lead gener process believ invest addit train support help sale team gener lead improv perform support look forward work togeth improv sale perform', 'monthli sale revenu team write provid monthli sale revenu month februari unfortun experienc drop sale compar previou month total revenu februari stand million drop januari analyz sale data identifi signific portion sale revenu came one client januari need diversifi client base focu secur new client mitig risk reli singl client appreci continu support guidanc look forward work togeth improv sale perform', 'futur sale strategi team write inform sale revenu month februari drop compar previou month disappoint declin commit improv sale perform come month plan focu improv custom servic experi product innov attract new client also review price strategi ensur remain competit support look forward work togeth improv sale perform', 'compani perform potenti cut understand recent compani perform expect recogn concern rais potenti cut team close monitor situat work senior manag determin appropri cours action top prioriti ensur financi stabil compani also mind impact valu employe want assur decis regard cut restructur made care consider employe commun updat develop time transpar manner meantim encourag continu focu work support work togeth improv compani perform valu contribut everi employe commit find solut interest compani employe hesit reach us question concern may', 'limit time sale event product team excit announc limit time sale event product next two week product avail discount great opportun tri product stock favorit team commit provid high qualiti product afford price hope sale event boost sale also increas employe moral excit miss fantast opportun save product visit intern sale portal inform take advantag promot', 'futur sale strategi team write inform sale revenu month februari drop compar previou month disappoint declin commit improv sale perform come month plan focu improv custom servic experi product innov attract new client also review price strategi ensur remain competit support look forward work togeth improv sale perform', 'sale period updat strong perform far team want share excit news current sale period far seen strong perform signific increas sale custom engag believ discount promot key factor drive success want everi one hard work dedic promot sell product still day left sale period let keep momentum finish strong continu effort drive sale revenu growth', 'celebr sale period success team recent sale period huge success thank dedic hard work sale team saw signific increas sale custom engag believ discount promot major factor drive success want take moment celebr accomplish everi one contribut sale revenu growth let keep momentum continu drive success team compani ongo effort commit excel', 'sale period recap lesson learn team wrap recent sale period want take moment recap success share lesson learn saw signific increas sale custom engag promot believ larg due discount offer also receiv valuabl feedback custom help us improv product offer custom experi move forward continu strive excel area sale market effort use lesson learn sale period inform futur promot strategi dedic hard work sale', 'posit custom feedback manag hope find well want share posit feedback receiv one custom custom regard recent experi product servic feedback specif mention help sale team address concern answer question thrill hear effort make posit impact custom want share feedback rest compani continu support encourag maintain high level custom satisfact', 'address custom complaint manag want bring attent issu rais one custom custom regard recent purchas made express dissatisfact product servic receiv led neg experi alreadi reach custom taken step address concern includ offer replac product provid addit support want inform situat reassur commit provid highest level custom satisfact continu make improv product servic understand support sincer', 'custom survey result manag pleas share result latest custom satisfact survey receiv overal satisfact rate percentag number respond rate product servic excel survey also highlight area improv includ specif feedback take suggest serious commit make necessari chang enhanc custom experi want share result rest compani acknowledg effort sale team encourag continu focu deliv outstand servic custom', 'recognit outstand custom servic manag want recogn one sale team member salesperson provid except custom servic one client custom custom recent share posit experi us mention salesperson went beyond ensur need met concern address believ import acknowledg celebr outstand effort team member want bring attent extend congratul appreci salesperson dedic deliv excel servic custom attent matter sincer', 'tip enhanc custom satisfact team sale team direct impact custom experi brand end want share tip enhanc custom satisfact believ use us respons make prioriti respond custom inquiri concern time profession manner build relationship focu build strong relationship custom listen need provid person servic follow regularli commun effect make sure commun custom clear concis easi understand avoid jargon technic term may confus frustrat custom offer solut custom problem concern focu find solut meet need exce expect provid valu custom appreci valu make sure provid product servic high qualiti innov meet need hope find tip help enhanc custom satisfact drive sale success', 'respond custom feedback team custom feedback critic success sale team import respond time effect manner practic respond custom feedback acknowledg feedback let custom know receiv feedback appreci take time share thought empathet show custom understand concern commit find solut meet need take action take step address custom concern whether mean resolv problem offer addit support provid inform follow address custom concern follow ensur satisfi resolut see anyth els help follow practic build stronger relationship custom improv overal satisfact brand', 'person custom interact team person interact custom key way enhanc satisfact brand way person custom interact use address custom commun whether phone call understand need take time understand custom need prefer tailor approach accordingli provid relev inform share inform relev custom interest need whether new product launch special promot make recommend base custom need make recommend product servic may interest person interact custom build stronger relationship enhanc overal satisfact brand', 'make custom interact team everi interact custom opportun enhanc satisfact brand tip make custom interact present commun custom fulli present attent understand need address concern effect listen activ listen care custom feedback concern ask question clarifi need provid valu offer custom valu form use inform person servic special promot proactiv anticip custom need offer solut even ask follow custom interact follow custom ensur need met see anyth els help make everi custom interact build stronger relationship custom enhanc overal satisfact brand', 'ad campaign complet request sale feedback hi thank reach want let know saw signific increas number lead gener ad campaign period also notic higher convers rate among lead compar previou month overal feel campaign success creat awar product drive sale thank hard work campaign look forward continu work togeth futur campaign sale team member', 'follow feedback ad campaign hi thank follow feedback see slight increas number lead gener campaign period see correspond increas convers feel campaign may focus gener lead rather encourag convers futur campaign would appreci focu encourag prospect make purchas rather gener lead thank collabor look forward work futur campaign sale team member', 'request specif sale data ad campaign hi thank request specif sale data campaign period gener lead previou month also saw increas convers period feel campaign success gener lead drive convers would appreci focu drive sale lead futur campaign thank collabor look forward work togeth futur campaign sale team member']\n"
          ]
        }
      ],
      "source": [
        "# preprocessing of the emails\n",
        "def preprocessing_email(email):\n",
        "    # splits the sentences in words keeping alphabatic values only\n",
        "    words = tokenizer.tokenize(email)\n",
        "    \n",
        "    wordsFiltered = []\n",
        "    for w in words:\n",
        "        # lowercase words\n",
        "        w = w.lower()\n",
        "        # retrieve stopwords and context words\n",
        "        if w not in stopWords and w not in contex_words:\n",
        "            # Stemming of the filtred words\n",
        "            wordsFiltered.append(ps.stem(w))\n",
        "\n",
        "    return \" \".join(wordsFiltered)\n",
        "\n",
        "# preprocessing of the corpus of emails\n",
        "preprocessed_email_corpus = []\n",
        "\n",
        "for email in df_emails:\n",
        "    preprocessed_email = preprocessing_email(email)\n",
        "    preprocessed_email_corpus.append(preprocessed_email)\n",
        "\n",
        "print('Preprocessed email corpus:\\n', preprocessed_email_corpus)"
      ]
    },
    {
      "cell_type": "code",
      "execution_count": 128,
      "metadata": {},
      "outputs": [
        {
          "name": "stdout",
          "output_type": "stream",
          "text": [
            "\n",
            "Number of features: 1169\n",
            "\n",
            "TF-IDF MATRIX:\n",
            "\n",
            "      abl  absolut  accept  access  accommod  accomplish  accordingli  account   \n",
            "0    0.0      0.0     0.0     0.0       0.0         0.0     0.000000      0.0  \\\n",
            "1    0.0      0.0     0.0     0.0       0.0         0.0     0.000000      0.0   \n",
            "2    0.0      0.0     0.0     0.0       0.0         0.0     0.000000      0.0   \n",
            "3    0.0      0.0     0.0     0.0       0.0         0.0     0.000000      0.0   \n",
            "4    0.0      0.0     0.0     0.0       0.0         0.0     0.000000      0.0   \n",
            "..   ...      ...     ...     ...       ...         ...          ...      ...   \n",
            "202  0.0      0.0     0.0     0.0       0.0         0.0     0.126746      0.0   \n",
            "203  0.0      0.0     0.0     0.0       0.0         0.0     0.000000      0.0   \n",
            "204  0.0      0.0     0.0     0.0       0.0         0.0     0.000000      0.0   \n",
            "205  0.0      0.0     0.0     0.0       0.0         0.0     0.000000      0.0   \n",
            "206  0.0      0.0     0.0     0.0       0.0         0.0     0.000000      0.0   \n",
            "\n",
            "     accur  achiev  ...  word      work  worri     would  wrap  write  year   \n",
            "0      0.0     0.0  ...   0.0  0.049814    0.0  0.000000   0.0    0.0   0.0  \\\n",
            "1      0.0     0.0  ...   0.0  0.000000    0.0  0.189243   0.0    0.0   0.0   \n",
            "2      0.0     0.0  ...   0.0  0.000000    0.0  0.048196   0.0    0.0   0.0   \n",
            "3      0.0     0.0  ...   0.0  0.046839    0.0  0.058648   0.0    0.0   0.0   \n",
            "4      0.0     0.0  ...   0.0  0.000000    0.0  0.120179   0.0    0.0   0.0   \n",
            "..     ...     ...  ...   ...       ...    ...       ...   ...    ...   ...   \n",
            "202    0.0     0.0  ...   0.0  0.000000    0.0  0.000000   0.0    0.0   0.0   \n",
            "203    0.0     0.0  ...   0.0  0.000000    0.0  0.000000   0.0    0.0   0.0   \n",
            "204    0.0     0.0  ...   0.0  0.124814    0.0  0.000000   0.0    0.0   0.0   \n",
            "205    0.0     0.0  ...   0.0  0.052385    0.0  0.065592   0.0    0.0   0.0   \n",
            "206    0.0     0.0  ...   0.0  0.057099    0.0  0.071495   0.0    0.0   0.0   \n",
            "\n",
            "     yearli  yet  younger  \n",
            "0       0.0  0.0      0.0  \n",
            "1       0.0  0.0      0.0  \n",
            "2       0.0  0.0      0.0  \n",
            "3       0.0  0.0      0.0  \n",
            "4       0.0  0.0      0.0  \n",
            "..      ...  ...      ...  \n",
            "202     0.0  0.0      0.0  \n",
            "203     0.0  0.0      0.0  \n",
            "204     0.0  0.0      0.0  \n",
            "205     0.0  0.0      0.0  \n",
            "206     0.0  0.0      0.0  \n",
            "\n",
            "[207 rows x 1169 columns]\n"
          ]
        }
      ],
      "source": [
        "# TF-IDF to create the embedding/ feaure space\n",
        "# initialize the vectorizer\n",
        "vectorizer = TfidfVectorizer()\n",
        "# fit and transform the corpus\n",
        "tfidf_matrix = vectorizer.fit_transform(preprocessed_email_corpus)\n",
        "\n",
        "# print the dataframe\n",
        "feature_names = vectorizer.get_feature_names_out()\n",
        "print('\\nNumber of features:', len(feature_names))\n",
        "print(\"\\nTF-IDF MATRIX:\\n\\n\", pd.DataFrame(tfidf_matrix.toarray(), columns=feature_names))"
      ]
    },
    {
      "cell_type": "markdown",
      "metadata": {
        "id": "gHciEFkxsoQP"
      },
      "source": [
        "Train Test Split"
      ]
    },
    {
      "cell_type": "code",
      "execution_count": 129,
      "metadata": {
        "id": "AEfKGj_yslvD"
      },
      "outputs": [
        {
          "name": "stdout",
          "output_type": "stream",
          "text": [
            "StratifiedShuffleSplit(n_splits=1, random_state=None, test_size=0.2,\n",
            "            train_size=None)\n"
          ]
        }
      ],
      "source": [
        "\n",
        "# Generate stratified Train/Test folds (The folds are made by preserving the percentage of samples for each class)\n",
        "\n",
        "def train_test_stratified_split(X, y):\n",
        "  sss = StratifiedShuffleSplit(n_splits=1, test_size=0.2)\n",
        "  print(sss)\n",
        "  for _, (train_index, test_index) in enumerate(sss.split(X, y)):\n",
        "      X_train = X[train_index]\n",
        "      X_test = X[test_index]\n",
        "      y_train = y[train_index]\n",
        "      y_test = y[test_index]\n",
        "  \n",
        "  return X_train, y_train, X_test, y_test\n",
        "\n",
        "X = tfidf_matrix.toarray()\n",
        "y = df_target\n",
        "\n",
        "X_train, y_train, X_test, y_test = train_test_stratified_split(X, y)"
      ]
    },
    {
      "cell_type": "code",
      "execution_count": 130,
      "metadata": {
        "colab": {
          "base_uri": "https://localhost:8080/"
        },
        "id": "DR05T-o0t3FQ",
        "outputId": "1d64e218-752a-4b8a-df1e-694ed250899a"
      },
      "outputs": [
        {
          "name": "stdout",
          "output_type": "stream",
          "text": [
            "(207, 1169) (165, 1169) (42, 1169)\n"
          ]
        }
      ],
      "source": [
        "print(X.shape, X_train.shape, X_test.shape)"
      ]
    },
    {
      "cell_type": "markdown",
      "metadata": {
        "id": "ElJ3tkOtuC_n"
      },
      "source": [
        "Training the Model"
      ]
    },
    {
      "cell_type": "code",
      "execution_count": 131,
      "metadata": {
        "id": "5szLWHlNt9xc"
      },
      "outputs": [],
      "source": [
        "svm_clf = svm.SVC()\n",
        "   # we use GridSearch to find the best parameters for the classifier\n",
        "C_array = np.linspace(0.1, 10.0, num=10)\n",
        "\n",
        "parametres = {\n",
        "                  'C': C_array,\n",
        "                  'kernel': ['rbf', 'linear','poly'],\n",
        "                  'gamma':[0.001, 0.1, 0.5]\n",
        "                 }\n",
        "grid_svm = GridSearchCV(svm_clf, param_grid=parametres)"
      ]
    },
    {
      "cell_type": "code",
      "execution_count": 132,
      "metadata": {
        "colab": {
          "base_uri": "https://localhost:8080/"
        },
        "id": "ncJWY_7suPAb",
        "outputId": "208699e4-43d6-4abc-9f74-75ca36071445"
      },
      "outputs": [
        {
          "name": "stdout",
          "output_type": "stream",
          "text": [
            "Best params: {'C': 1.2000000000000002, 'gamma': 0.001, 'kernel': 'linear'}\n"
          ]
        }
      ],
      "source": [
        "#training the support vector Machine Classifier\n",
        "grid_svm.fit(X, y)\n",
        "print('Best params:', grid_svm.best_params_)\n",
        "# use the best classifier found by GridSearchCV\n",
        "best_svm_clf = grid_svm.best_estimator_"
      ]
    },
    {
      "cell_type": "markdown",
      "metadata": {
        "id": "UV4-CAfquiyP"
      },
      "source": [
        "Model Evaluation"
      ]
    },
    {
      "cell_type": "markdown",
      "metadata": {
        "id": "yhAjGPJWunXa"
      },
      "source": [
        "Accuracy Score"
      ]
    },
    {
      "cell_type": "code",
      "execution_count": 133,
      "metadata": {
        "id": "fJLEPQK7ueXp"
      },
      "outputs": [],
      "source": [
        "# use cross-validation to evaluate the best classifier\n",
        "cv_svm = StratifiedKFold(n_splits=5, shuffle=True)\n",
        "y_pred_svm = cross_val_predict(best_svm_clf, X, y, cv=cv_svm)\n",
        "accuracy = accuracy_score(y, y_pred_svm)\n",
        "f1_score = f1_score(y, y_pred_svm, average='weighted')"
      ]
    },
    {
      "cell_type": "code",
      "execution_count": 134,
      "metadata": {
        "colab": {
          "base_uri": "https://localhost:8080/"
        },
        "id": "i2GcW_t_vz7C",
        "outputId": "5c7a53f0-0795-4941-d0bd-e7bb0ae1b02c"
      },
      "outputs": [
        {
          "name": "stdout",
          "output_type": "stream",
          "text": [
            "Accuracy score of the test data :  0.9130434782608695\n",
            "F1 score of the test data :  0.9131760815235819\n"
          ]
        }
      ],
      "source": [
        "print('Accuracy score of the test data : ', accuracy)\n",
        "print('F1 score of the test data : ', f1_score)"
      ]
    },
    {
      "cell_type": "markdown",
      "metadata": {
        "id": "FCHCMHpshHU4"
      },
      "source": [
        "Saving the trained model"
      ]
    },
    {
      "cell_type": "code",
      "execution_count": 135,
      "metadata": {
        "id": "4gN09lokhKuZ"
      },
      "outputs": [],
      "source": [
        "filename_clf = 'email_classification_model.sav'\n",
        "pickle.dump(best_svm_clf, open(filename_clf, 'wb'))\n",
        "\n",
        "filename_vec = 'email_vectorizer.sav'\n",
        "pickle.dump(vectorizer, open(filename_vec, 'wb'))"
      ]
    },
    {
      "cell_type": "code",
      "execution_count": 136,
      "metadata": {
        "id": "IKW4D5CqhP5X"
      },
      "outputs": [],
      "source": [
        "# loading the saved model\n",
        "loaded_model = pickle.load(open('email_classification_model.sav', 'rb'))"
      ]
    },
    {
      "cell_type": "code",
      "execution_count": 137,
      "metadata": {
        "colab": {
          "base_uri": "https://localhost:8080/"
        },
        "id": "exbg9-VWiHRx",
        "outputId": "9722e185-6a60-4656-a7eb-12fc88c4f458"
      },
      "outputs": [
        {
          "name": "stdout",
          "output_type": "stream",
          "text": [
            "HR\n"
          ]
        }
      ],
      "source": [
        "raw_input_data = \"Subject: Invitation to Attend a Job Interview\\\n",
        "Dear [Applicant Name],\\\n",
        "Thank you for applying for the [Job Title] position with our company. We were impressed with your qualifications and experience, and we would like to invite you to attend an interview with our team.\\\n",
        "The interview will take place on [Date] at [Time] at our office located at [Address]. During the interview, we will discuss your qualifications, experience, and your fit with our company culture. You will also have the opportunity to ask any questions you may have about the position and the company.\\\n",
        "Please let us know if this date and time work for you. If not, we are happy to arrange a different time that is convenient for you. Also, please bring a copy of your updated resume and any relevant certifications or documents.\\\n",
        "We would like to remind you that the interview is an important part of our selection process, and we ask that you dress appropriately and arrive on time.\\\n",
        "We look forward to meeting with you and getting to know you better.\\\n",
        "Best regards,\"\n",
        "\n",
        "preprocessed_input_data = []\n",
        "preprocessed_input_data.append(preprocessing_email(raw_input_data))\n",
        "\n",
        "preprocessed_input_data_embedding = vectorizer.transform(preprocessed_input_data)\n",
        "\n",
        "input_data_as_numpy_array = preprocessed_input_data_embedding.toarray()\n",
        "\n",
        "prediction = loaded_model.predict(input_data_as_numpy_array)\n",
        "print(prediction[0])"
      ]
    }
  ],
  "metadata": {
    "colab": {
      "collapsed_sections": [],
      "name": "Diabetes model for API.ipynb",
      "provenance": []
    },
    "kernelspec": {
      "display_name": "Python 3",
      "name": "python3"
    },
    "language_info": {
      "codemirror_mode": {
        "name": "ipython",
        "version": 3
      },
      "file_extension": ".py",
      "mimetype": "text/x-python",
      "name": "python",
      "nbconvert_exporter": "python",
      "pygments_lexer": "ipython3",
      "version": "3.11.3"
    }
  },
  "nbformat": 4,
  "nbformat_minor": 0
}
